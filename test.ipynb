{
 "cells": [
  {
   "cell_type": "code",
   "execution_count": 8,
   "id": "00d9dfe9",
   "metadata": {},
   "outputs": [],
   "source": [
    "from VAE import encoder"
   ]
  },
  {
   "cell_type": "code",
   "execution_count": 1,
   "id": "c2606568",
   "metadata": {},
   "outputs": [
    {
     "name": "stdout",
     "output_type": "stream",
     "text": [
      "tell\n"
     ]
    }
   ],
   "source": [
    "print(\"tell\")"
   ]
  },
  {
   "cell_type": "code",
   "execution_count": 2,
   "id": "87fa1366",
   "metadata": {},
   "outputs": [],
   "source": [
    "import torch"
   ]
  },
  {
   "cell_type": "code",
   "execution_count": null,
   "id": "d9b5ec5c",
   "metadata": {},
   "outputs": [],
   "source": []
  }
 ],
 "metadata": {
  "kernelspec": {
   "display_name": "Python 3 (ipykernel)",
   "language": "python",
   "name": "python3"
  },
  "language_info": {
   "codemirror_mode": {
    "name": "ipython",
    "version": 3
   },
   "file_extension": ".py",
   "mimetype": "text/x-python",
   "name": "python",
   "nbconvert_exporter": "python",
   "pygments_lexer": "ipython3",
   "version": "3.8.10"
  }
 },
 "nbformat": 4,
 "nbformat_minor": 5
}
